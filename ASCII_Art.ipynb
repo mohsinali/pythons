{
 "cells": [
  {
   "cell_type": "code",
   "execution_count": 11,
   "metadata": {},
   "outputs": [],
   "source": [
    "from random import randint"
   ]
  },
  {
   "cell_type": "code",
   "execution_count": 12,
   "metadata": {},
   "outputs": [
    {
     "name": "stdout",
     "output_type": "stream",
     "text": [
      "\n",
      "  Here's picture of a dog:\n",
      "  o____\n",
      "   ||||\n",
      "\n"
     ]
    }
   ],
   "source": [
    "print('''\n",
    "  Here's picture of a dog:\n",
    "  o____\n",
    "   ||||\n",
    "''')"
   ]
  },
  {
   "cell_type": "code",
   "execution_count": 13,
   "metadata": {},
   "outputs": [
    {
     "name": "stdout",
     "output_type": "stream",
     "text": [
      "What year you were born?1990\n",
      "In the year 2025 you will be 35 years old\n"
     ]
    }
   ],
   "source": [
    "born = input('What year you were born?')\n",
    "born = int(born)\n",
    "print(\"In the year 2025 you will be {0} years old\".format(2025 - born))"
   ]
  },
  {
   "cell_type": "code",
   "execution_count": 24,
   "metadata": {},
   "outputs": [
    {
     "name": "stdout",
     "output_type": "stream",
     "text": [
      "rock(r), scissor(s) or paper(p)?r\n",
      "Computer Wins!\n"
     ]
    }
   ],
   "source": [
    "player = input('rock(r), scissor(s) or paper(p)?')\n",
    "chosen = randint(1,3)\n",
    "if chosen == 1:\n",
    "    computer = 'r'\n",
    "elif chosen == 2:\n",
    "    computer = 'p'\n",
    "else:\n",
    "    computer = 's'\n",
    "\n",
    "if player == computer:\n",
    "    print('DRAW')\n",
    "elif player == 'r' and computer == 's':\n",
    "    print('Player Wins!')\n",
    "elif player == 'r' and computer == 'p':\n",
    "    print('Computer Wins!')\n",
    "elif player == 'p' and computer == 'r':\n",
    "    print('Player Wins!')\n",
    "elif player == 'p' and computer == 's':\n",
    "    print('Computer Wins!')\n",
    "    \n",
    "\n",
    "#print(player, 'vs', computer)"
   ]
  },
  {
   "cell_type": "code",
   "execution_count": null,
   "metadata": {},
   "outputs": [],
   "source": []
  }
 ],
 "metadata": {
  "kernelspec": {
   "display_name": "Python 3",
   "language": "python",
   "name": "python3"
  },
  "language_info": {
   "codemirror_mode": {
    "name": "ipython",
    "version": 3
   },
   "file_extension": ".py",
   "mimetype": "text/x-python",
   "name": "python",
   "nbconvert_exporter": "python",
   "pygments_lexer": "ipython3",
   "version": "3.6.5"
  }
 },
 "nbformat": 4,
 "nbformat_minor": 2
}
