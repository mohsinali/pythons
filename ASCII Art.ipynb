{
 "cells": [
  {
   "cell_type": "code",
   "execution_count": 4,
   "metadata": {
    "scrolled": true
   },
   "outputs": [
    {
     "name": "stdout",
     "output_type": "stream",
     "text": [
      "\n",
      "  Here's picture of a dog:\n",
      "  o____\n",
      "   ||||\n",
      "\n"
     ]
    }
   ],
   "source": [
    "print('''\n",
    "  Here's picture of a dog:\n",
    "  o____\n",
    "   ||||\n",
    "''')"
   ]
  },
  {
   "cell_type": "code",
   "execution_count": 10,
   "metadata": {},
   "outputs": [
    {
     "name": "stdout",
     "output_type": "stream",
     "text": [
      "What year you were born?1983\n",
      "In the year 2025 you will be 42 years old\n"
     ]
    }
   ],
   "source": [
    "born = input('What year you were born?')\n",
    "born = int(born)\n",
    "print(\"In the year 2025 you will be {0} years old\".format(2025 - born))"
   ]
  },
  {
   "cell_type": "code",
   "execution_count": null,
   "metadata": {},
   "outputs": [],
   "source": []
  }
 ],
 "metadata": {
  "kernelspec": {
   "display_name": "Python 3",
   "language": "python",
   "name": "python3"
  },
  "language_info": {
   "codemirror_mode": {
    "name": "ipython",
    "version": 3
   },
   "file_extension": ".py",
   "mimetype": "text/x-python",
   "name": "python",
   "nbconvert_exporter": "python",
   "pygments_lexer": "ipython3",
   "version": "3.6.5"
  }
 },
 "nbformat": 4,
 "nbformat_minor": 2
}
